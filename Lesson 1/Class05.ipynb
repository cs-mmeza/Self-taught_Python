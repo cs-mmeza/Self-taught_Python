{
 "cells": [
  {
   "cell_type": "code",
   "execution_count": null,
   "metadata": {},
   "outputs": [],
   "source": [
    "'''\n",
    "list1 = [\"hola\", \"adios\", \"quetal\"]\n",
    "\n",
    "print(list1[0])\n",
    "\n",
    "'''"
   ]
  },
  {
   "cell_type": "code",
   "execution_count": 6,
   "metadata": {},
   "outputs": [
    {
     "name": "stdout",
     "output_type": "stream",
     "text": [
      "5.5\n"
     ]
    }
   ],
   "source": [
    "#...\n",
    "saludos = [\"hola\", \"adios\", \"que tal\"]\n",
    "numeros_ent = [2, 5, 7, 10]\n",
    "mixto = [\"hola\", 2, 5.5]\n",
    "\n",
    "print(list3[2])"
   ]
  },
  {
   "cell_type": "code",
   "execution_count": 26,
   "metadata": {},
   "outputs": [],
   "source": [
    "juego = [\"pato\", \"pato\", \"pato\", \"pato\"]\n",
    "\n",
    "\n",
    "i = 0\n",
    "\n",
    "while (i < len(juego)): #cierra el loop\n",
    "    \n",
    "    if juego[i] == \"ganso\":\n",
    "        print(\"te encontre!\")\n",
    "    \n",
    "    i = i + 1"
   ]
  },
  {
   "cell_type": "code",
   "execution_count": null,
   "metadata": {},
   "outputs": [],
   "source": []
  }
 ],
 "metadata": {
  "interpreter": {
   "hash": "8a6e124c1719b1ccf5a2abee5910e336e025fe78a037cbb819be443500ffda8b"
  },
  "kernelspec": {
   "display_name": "Python 3.8.10 64-bit ('base': conda)",
   "name": "python3"
  },
  "language_info": {
   "codemirror_mode": {
    "name": "ipython",
    "version": 3
   },
   "file_extension": ".py",
   "mimetype": "text/x-python",
   "name": "python",
   "nbconvert_exporter": "python",
   "pygments_lexer": "ipython3",
   "version": "3.8.10"
  },
  "orig_nbformat": 4
 },
 "nbformat": 4,
 "nbformat_minor": 2
}
