{
 "cells": [
  {
   "cell_type": "markdown",
   "metadata": {},
   "source": [
    "\n",
    "# Tarea # 5\n",
    "\n",
    "## List, While loop y manejo de iteraciones en loops (blockes en cyclos).\n",
    "\n",
    "### 2 de Noviembre de 2021"
   ]
  },
  {
   "cell_type": "code",
   "execution_count": 44,
   "metadata": {},
   "outputs": [],
   "source": [
    "# 1. Crea una lista de  nombre \"precios\" con los siguientes valores dentro en el siguiente orden : 20, 20, 50, 70, 60\n",
    "precios_lunes = [20, 20, 50, 70, 60]\n",
    "precios_martes = [20, 30, 50 , 100]\n"
   ]
  },
  {
   "cell_type": "code",
   "execution_count": 45,
   "metadata": {},
   "outputs": [],
   "source": [
    "# 2. Crea una funcion que tome los numeros de la lista creada anteriormente y despliegue los precios que son mayores a 30\n",
    "def PrecioAlto(a):\n",
    "\n",
    "    i = 0\n",
    "    emp1 = []\n",
    "    while (i < len(a) ):\n",
    "       \n",
    "        if ( a [i] >= 30 ) :\n",
    "            emp1.append( a[i] )\n",
    "        \n",
    "        i = i + 1\n",
    "    return emp1"
   ]
  },
  {
   "cell_type": "code",
   "execution_count": 46,
   "metadata": {},
   "outputs": [
    {
     "name": "stdout",
     "output_type": "stream",
     "text": [
      "[30, 50, 100]\n"
     ]
    }
   ],
   "source": [
    "print( PrecioAlto(precios_martes) )"
   ]
  },
  {
   "cell_type": "code",
   "execution_count": 52,
   "metadata": {},
   "outputs": [
    {
     "name": "stdout",
     "output_type": "stream",
     "text": [
      "[2, 3]\n",
      "['monroe']\n"
     ]
    }
   ],
   "source": [
    "# method .append() for list\n",
    "list2 = []\n",
    "list2.append(2)\n",
    "list2.append(3)\n",
    "print ( list2 )\n",
    "\n",
    "# method .pop() for list\n",
    "list3 = ['alice', 'monroe']\n",
    "list3.pop(-2)\n",
    "print(list3)"
   ]
  },
  {
   "cell_type": "code",
   "execution_count": 60,
   "metadata": {},
   "outputs": [
    {
     "name": "stdout",
     "output_type": "stream",
     "text": [
      "1\n",
      "1\n"
     ]
    }
   ],
   "source": [
    "# mas variantes en listas:\n",
    "\n",
    "# acceso izq a derecha\n",
    "list4 = [1, 2, 3, 4]\n",
    "print(list4[0]) # primer valor\n",
    "\n",
    "#accesor derecha  a izq\n",
    "print(list4[-4]) # primer valor"
   ]
  },
  {
   "cell_type": "code",
   "execution_count": null,
   "metadata": {},
   "outputs": [],
   "source": []
  }
 ],
 "metadata": {
  "interpreter": {
   "hash": "8a6e124c1719b1ccf5a2abee5910e336e025fe78a037cbb819be443500ffda8b"
  },
  "kernelspec": {
   "display_name": "Python 3.8.10 64-bit ('base': conda)",
   "name": "python3"
  },
  "language_info": {
   "codemirror_mode": {
    "name": "ipython",
    "version": 3
   },
   "file_extension": ".py",
   "mimetype": "text/x-python",
   "name": "python",
   "nbconvert_exporter": "python",
   "pygments_lexer": "ipython3",
   "version": "3.8.10"
  },
  "orig_nbformat": 4
 },
 "nbformat": 4,
 "nbformat_minor": 2
}
