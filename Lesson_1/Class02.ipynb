{
 "cells": [
  {
   "cell_type": "markdown",
   "metadata": {},
   "source": [
    "### Self-Thought Python Classes\n",
    "#### Data Types for begginers / Tipos de datos en python"
   ]
  },
  {
   "cell_type": "code",
   "execution_count": 8,
   "metadata": {},
   "outputs": [
    {
     "name": "stdout",
     "output_type": "stream",
     "text": [
      "Texto 2 2.5 True False\n"
     ]
    }
   ],
   "source": [
    "#Fun\n",
    "print(\"Texto\", 2 ,2.5, True, False)  \n",
    "#type()\n",
    "# variables\n",
    "x = \"text\"\n",
    "y = 2\n",
    "w = 2.5454321\n",
    "z = True"
   ]
  },
  {
   "cell_type": "code",
   "execution_count": 12,
   "metadata": {},
   "outputs": [
    {
     "data": {
      "text/plain": [
       "float"
      ]
     },
     "execution_count": 12,
     "metadata": {},
     "output_type": "execute_result"
    }
   ],
   "source": [
    "type(w)"
   ]
  },
  {
   "cell_type": "code",
   "execution_count": 23,
   "metadata": {},
   "outputs": [],
   "source": [
    "A = 15\n",
    "B = 5\n",
    "C = A + B * 15.5\n"
   ]
  },
  {
   "cell_type": "code",
   "execution_count": 24,
   "metadata": {},
   "outputs": [
    {
     "name": "stdout",
     "output_type": "stream",
     "text": [
      "92.5\n",
      "<class 'float'>\n"
     ]
    }
   ],
   "source": [
    "print(C)\n",
    "print(type(C))"
   ]
  },
  {
   "cell_type": "code",
   "execution_count": 20,
   "metadata": {},
   "outputs": [],
   "source": [
    "D = True"
   ]
  },
  {
   "cell_type": "code",
   "execution_count": 25,
   "metadata": {},
   "outputs": [
    {
     "name": "stdout",
     "output_type": "stream",
     "text": [
      "string otro\n"
     ]
    }
   ],
   "source": [
    "E = \"string \"\n",
    "print(E + \"otro\")"
   ]
  },
  {
   "cell_type": "code",
   "execution_count": 27,
   "metadata": {},
   "outputs": [
    {
     "name": "stdout",
     "output_type": "stream",
     "text": [
      "1\n"
     ]
    }
   ],
   "source": [
    "print(True + False)"
   ]
  },
  {
   "cell_type": "markdown",
   "metadata": {},
   "source": [
    "#### How to comment inside your code   `#`\n",
    "\n",
    "Escribir comentarios dentro de líneas de código es importante para que nuestro trabajo sea entendible para nuestros colegas. Asi tambien, ayuda a mantener un mejor orden a la hora de escribir extensas líneas de código.\n",
    "En este caso, Los comentarios nos ayudaran a entender mejor los conceptos nuevos de programación que estamos aprendiendo al añadir información adicional al contexto de las líneas de código. Para escribir un comentario es necesario\n",
    "usar `#` antes de cada texto.\n"
   ]
  },
  {
   "cell_type": "code",
   "execution_count": 51,
   "metadata": {},
   "outputs": [
    {
     "name": "stdout",
     "output_type": "stream",
     "text": [
      "False\n",
      "True\n"
     ]
    }
   ],
   "source": [
    "# boolean operators\n",
    "# == ,  no es lo mismo que =\n",
    "# > mayor que\n",
    "# >= mayor igual que\n",
    "# < menor que\n",
    "# <= menor igual que\n",
    "# != diferente a\n",
    "\n",
    "#Ejemplo:\n",
    "\n",
    "G = 'juls' \n",
    "H = 'julss'\n",
    "\n",
    "J = 10\n",
    "K = 15\n",
    "\n",
    "print(G == H)\n",
    "print(J < K)"
   ]
  },
  {
   "cell_type": "code",
   "execution_count": 59,
   "metadata": {},
   "outputs": [
    {
     "name": "stdout",
     "output_type": "stream",
     "text": [
      "50\n"
     ]
    }
   ],
   "source": [
    "#if Statement\n",
    "\n",
    "# structure\n",
    "\n",
    "# if (boolean:statement) :\n",
    "#    print or exe this line\n",
    "#    sub 1 .- and this other one  // if dependant \n",
    "#       sub 2 .- sub 1 dependant\n",
    "\n",
    "\n",
    "A = 50\n",
    "\n",
    "print(A)\n",
    "\n",
    "A = 40\n",
    "\n",
    "\n"
   ]
  },
  {
   "cell_type": "code",
   "execution_count": 60,
   "metadata": {},
   "outputs": [
    {
     "name": "stdout",
     "output_type": "stream",
     "text": [
      "40\n"
     ]
    }
   ],
   "source": [
    "print(A)"
   ]
  },
  {
   "cell_type": "code",
   "execution_count": 61,
   "metadata": {},
   "outputs": [
    {
     "name": "stdout",
     "output_type": "stream",
     "text": [
      "100 50\n"
     ]
    }
   ],
   "source": [
    "if \"monroe\" != \"benedetti\":\n",
    "    A = 100\n",
    "    B = 50\n",
    "else :\n",
    "    B = 100\n",
    "\n",
    "print(A, B)"
   ]
  },
  {
   "cell_type": "code",
   "execution_count": null,
   "metadata": {},
   "outputs": [],
   "source": []
  }
 ],
 "metadata": {
  "kernelspec": {
   "display_name": "Python 3",
   "language": "python",
   "name": "python3"
  },
  "language_info": {
   "codemirror_mode": {
    "name": "ipython",
    "version": 3
   },
   "file_extension": ".py",
   "mimetype": "text/x-python",
   "name": "python",
   "nbconvert_exporter": "python",
   "pygments_lexer": "ipython3",
   "version": "3.8.10"
  }
 },
 "nbformat": 4,
 "nbformat_minor": 4
}
