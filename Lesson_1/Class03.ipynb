{
 "cells": [
  {
   "cell_type": "markdown",
   "metadata": {},
   "source": [
    "### Self-Taught Python Classes\n",
    "#### If, Elif, Else Blocks / Bloques if, elif y else"
   ]
  },
  {
   "cell_type": "markdown",
   "metadata": {},
   "source": [
    "Los bloques `if` (IF statements) son también llamados bloques de toma de decisiones. y permiten ejecutar una línea solo después de que cierto estado de código se cumple.\n",
    "\n",
    "la estructura del bloque `if` es la siguiente:\n",
    "```\n",
    "if *(Condición)*:\n",
    "    *Línea de código a ejecutar si la condición se cumple. * \n",
    "```\n",
    "los bloques de toma de decisiones están ancladas a los valores booleanos (`bool`) donde cualquier operación puede reflejar `True` (Cierto) o `False`(Falso)."
   ]
  },
  {
   "cell_type": "code",
   "execution_count": null,
   "metadata": {},
   "outputs": [],
   "source": [
    "# Ejemplo #1\n",
    "print('Un Simple Saludo')\n",
    "\n",
    "if True:\n",
    "    print('Si, es verdadero di; hola')\n",
    "\n",
    "if False:\n",
    "    print('Esta linea nunca se ejecutara')\n"
   ]
  },
  {
   "cell_type": "markdown",
   "metadata": {},
   "source": [
    "Los bloques `if` tienen un apartado para tomar una decisión si la condición no se cumple; el llamado bloque `else` (o en otro caso) esta este comando ejecutara la línea dentro de su bloque si el bloque if no se cumple. Es decir, es un bloque dependiente del bloque `if`."
   ]
  },
  {
   "cell_type": "code",
   "execution_count": null,
   "metadata": {},
   "outputs": [],
   "source": [
    "if False:\n",
    "    print('esta linea no se ejecuta')\n",
    "else:\n",
    "    print('esta linea si se ejecuta')"
   ]
  },
  {
   "cell_type": "markdown",
   "metadata": {},
   "source": [
    "Tambien tenemos la tercera opcion: el bloque `elif`. El cual como su nombre lo dice, es un puinto intermedio entre `if` y `else` proporcionando una tercera condicion con nuevos resultados si el bloque `if` y/o else no cumplen las espectativas."
   ]
  },
  {
   "cell_type": "code",
   "execution_count": null,
   "metadata": {},
   "outputs": [],
   "source": [
    "if False:\n",
    "    print('nop')\n",
    "elif True:\n",
    "    print('sep')\n",
    "else:\n",
    "    print('ok, no')"
   ]
  },
  {
   "cell_type": "markdown",
   "metadata": {},
   "source": [
    "Al igual que el bloque `if` el bloque `elif` tambien requiere una condicion para funcionar. Y este se ejecuta solo si el bloque if del que es dependiente es falso y si su bloque de condicion arroja un resultado `True` (verdadero)"
   ]
  },
  {
   "cell_type": "markdown",
   "metadata": {},
   "source": [
    "#### Bloques con condiciones y operandos\n",
    "\n",
    "Los bloques `if` pueden ser utilizados con diferentes segmentos de condiciones y a su vez pueden ejecutar varias líneas y funciones en python. ¡Veamos un ejemplo de ello!"
   ]
  },
  {
   "cell_type": "code",
   "execution_count": null,
   "metadata": {},
   "outputs": [],
   "source": [
    "# una vez que ejecutes este programa una vez modifica los valores de x & y para ver los diferentes resultados.\n",
    "x = 6\n",
    "y = 6\n",
    "if x > y:\n",
    "    print('x es mayor a y')\n",
    "elif y > x:\n",
    "    print('x es menor a y')\n",
    "else:\n",
    "    print('son iguales')\n"
   ]
  }
 ],
 "metadata": {
  "language_info": {
   "name": "python"
  },
  "orig_nbformat": 4
 },
 "nbformat": 4,
 "nbformat_minor": 2
}
