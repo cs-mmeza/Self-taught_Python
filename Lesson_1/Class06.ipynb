{
 "cells": [
  {
   "cell_type": "markdown",
   "metadata": {},
   "source": [
    "# Python Class\n",
    "## FOR LOOP"
   ]
  },
  {
   "cell_type": "code",
   "execution_count": 5,
   "metadata": {},
   "outputs": [
    {
     "name": "stdout",
     "output_type": "stream",
     "text": [
      "venus\n",
      "tierra\n",
      "saturno\n",
      "venus\n",
      "tierra\n",
      "saturno\n"
     ]
    }
   ],
   "source": [
    "planetas = [\"venus\", \"tierra\", \"saturno\"]\n",
    "\n",
    "# while loop\n",
    "i = 0\n",
    "while(i < len(planetas)) :\n",
    "    print(planetas[i])\n",
    "    \n",
    "    i += 1 # = i = i + 1\n",
    "\n",
    "# for loop\n",
    "for planeta in planetas:\n",
    "    print(planeta)"
   ]
  },
  {
   "cell_type": "code",
   "execution_count": 1,
   "metadata": {},
   "outputs": [
    {
     "name": "stdout",
     "output_type": "stream",
     "text": [
      "30\n"
     ]
    }
   ],
   "source": [
    "hand2 = ['J', 'A']\n",
    "hand1 = ['20', 'J', 'A']\n",
    "cards = ['A', 'K', 'Q', 'J']\n",
    "hand = 0\n",
    "\n",
    "for i in range(len(hand1)):\n",
    "    if hand1[i] in cards[1:]:\n",
    "        hand += 10 \n",
    "#     if hand1[i] in hand1[0] and hand <= 11:\n",
    "#         hand + 11\n",
    "#     if hand1[i]in hand1[0] and hand > 11 :\n",
    "#         hand += 1\n",
    "    if hand1[i] not in cards:\n",
    "        hand += int(hand1[i])\n",
    "print(hand)"
   ]
  },
  {
   "cell_type": "code",
   "execution_count": null,
   "metadata": {},
   "outputs": [],
   "source": []
  }
 ],
 "metadata": {
  "interpreter": {
   "hash": "8a6e124c1719b1ccf5a2abee5910e336e025fe78a037cbb819be443500ffda8b"
  },
  "kernelspec": {
   "display_name": "Python 3.8.10 64-bit ('base': conda)",
   "name": "python3"
  },
  "language_info": {
   "codemirror_mode": {
    "name": "ipython",
    "version": 3
   },
   "file_extension": ".py",
   "mimetype": "text/x-python",
   "name": "python",
   "nbconvert_exporter": "python",
   "pygments_lexer": "ipython3",
   "version": "3.8.10"
  },
  "orig_nbformat": 4
 },
 "nbformat": 4,
 "nbformat_minor": 2
}
