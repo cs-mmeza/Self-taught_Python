{
 "cells": [
  {
   "cell_type": "code",
   "execution_count": null,
   "source": [
    "'''\r\n",
    "Materia & Tercera tarea/ejercicios programando con python.\r\n",
    "\r\n",
    "'''"
   ],
   "outputs": [],
   "metadata": {}
  },
  {
   "cell_type": "code",
   "execution_count": null,
   "source": [
    "#1. Modfica los valores de las siguientes variables para que las variables dependiente \"res\", despliegue un valor True/1 y activar el if statement.\r\n",
    "#\r\n",
    "val1 = 1\r\n",
    "val2 = 0\r\n",
    "res1 = val1 and val2 and 1\r\n",
    "res2 = val1 or val2\r\n",
    "res3 = not True\r\n",
    "\r\n",
    "if res1 and res2 and res3:\r\n",
    "    print(\"¡Exito!\")\r\n",
    "else:\r\n",
    "    print(\"Intentalo de nuevo\")\r\n"
   ],
   "outputs": [],
   "metadata": {}
  },
  {
   "cell_type": "code",
   "execution_count": 7,
   "source": [
    "#2. utiliza las variables a continuacion modifica la variable \"result\" para que su resuiltado sea True ó 1 , utilizando las condiciones \"and\" , \"or\", \"not .\r\n",
    "#  \r\n",
    "#\r\n",
    "\r\n",
    "a = 1\r\n",
    "b = 0\r\n",
    "c = 0\r\n",
    "result = (a and b and c and not a) and a < 1\r\n",
    "print(result == True)"
   ],
   "outputs": [
    {
     "output_type": "stream",
     "name": "stdout",
     "text": [
      "False\n"
     ]
    }
   ],
   "metadata": {}
  },
  {
   "cell_type": "code",
   "execution_count": null,
   "source": [],
   "outputs": [],
   "metadata": {}
  }
 ],
 "metadata": {
  "orig_nbformat": 4,
  "language_info": {
   "name": "python",
   "version": "3.8.10",
   "mimetype": "text/x-python",
   "codemirror_mode": {
    "name": "ipython",
    "version": 3
   },
   "pygments_lexer": "ipython3",
   "nbconvert_exporter": "python",
   "file_extension": ".py"
  },
  "kernelspec": {
   "name": "python3",
   "display_name": "Python 3.8.10 64-bit ('base': conda)"
  },
  "interpreter": {
   "hash": "8a6e124c1719b1ccf5a2abee5910e336e025fe78a037cbb819be443500ffda8b"
  }
 },
 "nbformat": 4,
 "nbformat_minor": 2
}