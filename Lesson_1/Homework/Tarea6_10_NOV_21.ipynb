{
 "cells": [
  {
   "cell_type": "markdown",
   "metadata": {},
   "source": [
    "\n",
    "# Tarea # 6\n",
    "\n",
    "## Repaso de primera lección de programación\n",
    "\n",
    "#### 2 de Noviembre de 2021 rev_0\n",
    "#### 10 de Nviembre de 2021 rev_1\n",
    "#### 20 de Noviembre de 2021 rev_3"
   ]
  },
  {
   "cell_type": "code",
   "execution_count": 44,
   "metadata": {},
   "outputs": [],
   "source": [
    "# 1. Crea una variable integer de nombre A con valor de 5 y otra variable de nombre B con valor de 10\n"
   ]
  },
  {
   "cell_type": "code",
   "execution_count": null,
   "metadata": {},
   "outputs": [],
   "source": [
    "# 2. en la siguiente variable \"C\" crea una formula trigonometrica de la siguiente formula : A**2 + B**2\n",
    "import math\n",
    "C = math.sqrt() # coloca tu formula dentro del parentecis de sqrt."
   ]
  },
  {
   "cell_type": "code",
   "execution_count": 8,
   "metadata": {},
   "outputs": [],
   "source": [
    "# 3.1 Crea un IF statement que tome las variables A y B . Sí, el valor de B es mayor a A o algunos de los dos no es un numero\n",
    "#haz que la funcion arroje el siguiente string \"error, incerte nuevos valores\"\n"
   ]
  },
  {
   "cell_type": "code",
   "execution_count": 52,
   "metadata": {},
   "outputs": [
    {
     "name": "stdout",
     "output_type": "stream",
     "text": [
      "[2, 3]\n",
      "['monroe']\n"
     ]
    }
   ],
   "source": [
    "# 4. Crea una funcion que encuentre la palabra \"Alto\" dentro de la func. input() string."
   ]
  },
  {
   "cell_type": "code",
   "execution_count": 60,
   "metadata": {},
   "outputs": [
    {
     "name": "stdout",
     "output_type": "stream",
     "text": [
      "1\n",
      "1\n"
     ]
    }
   ],
   "source": [
    "# 5. Crea un segmento loop que tome un valor por medio de la funcion input() y lo guarde dentro de una Variable tipo list\n",
    "\n",
    "# 6. ejecuta almenos 2 de los ejercicios anteriores en un archivo .py "
   ]
  }
 ],
 "metadata": {
  "interpreter": {
   "hash": "8a6e124c1719b1ccf5a2abee5910e336e025fe78a037cbb819be443500ffda8b"
  },
  "kernelspec": {
   "display_name": "Python 3.8.10 64-bit ('base': conda)",
   "name": "python3"
  },
  "language_info": {
   "codemirror_mode": {
    "name": "ipython",
    "version": 3
   },
   "file_extension": ".py",
   "mimetype": "text/x-python",
   "name": "python",
   "nbconvert_exporter": "python",
   "pygments_lexer": "ipython3",
   "version": "3.8.10"
  },
  "orig_nbformat": 4
 },
 "nbformat": 4,
 "nbformat_minor": 2
}
