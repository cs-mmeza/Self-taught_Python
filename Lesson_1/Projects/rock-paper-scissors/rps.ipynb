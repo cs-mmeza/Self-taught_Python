{
 "cells": [
  {
   "cell_type": "markdown",
   "metadata": {},
   "source": [
    "### self-taught python\n",
    "#### Piedra, Papel o Tijera"
   ]
  },
  {
   "cell_type": "code",
   "execution_count": null,
   "metadata": {},
   "outputs": [],
   "source": [
    "\n",
    "import random"
   ]
  },
  {
   "cell_type": "markdown",
   "metadata": {},
   "source": [
    "Instrucciones: \n",
    "1. Crea una variable para tomar información del usuario.\n",
    "   1. Crea una variable para guardar los datos de la función `input()`\n",
    "   2. Crea una lista para guardar los textos de: `\"roca\", \"papel\", \"Tijera\"`\n",
    "2. Usa bloques if, elif, else. para generar los resultados\n"
   ]
  },
  {
   "cell_type": "code",
   "execution_count": 1,
   "metadata": {},
   "outputs": [
    {
     "name": "stdout",
     "output_type": "stream",
     "text": [
      "\n",
      "You chose paper, computer chose rock.\n",
      "\n",
      "Paper covers rock! You win!\n",
      "\n",
      "You chose rock, computer chose rock.\n",
      "\n",
      "Both players selected rock. It's a tie!\n",
      "\n",
      "You chose scissors, computer chose rock.\n",
      "\n",
      "Rock smashes scissors! You lose.\n"
     ]
    }
   ],
   "source": [
    "import random # Paquete para generar Numeros random.\n",
    "\n",
    "while : # completa el While loop para que funcione de forma indefinida.\n",
    "    \n",
    "    # Crea las variables\n",
    "\n",
    "    accion_de_laMaquina = random.choice(possible_actions) # No necesitas modificar esta función (Aquí se utiliza el paquete)\n",
    "    # llena las corcheas con la variable tipo list que creaste para las palabras del juego: \"roca\", \"papel\", \"scissors\"\n",
    "    print(f\"\\nEscogiste {}, La maquina escogió {accion_de_laMaquina}.\\n\")\n",
    "\n",
    "    # Crea las condiciones\n",
    "    # Resuelve los Bloques \"if\" creando las condiciones para las que se generara cada texto:\n",
    "    #   Rellena las corcheas con la variable tipo list que creaste para guardar las palabras del juego.\n",
    "    if :\n",
    "        print(f\"Ambos jugadores seleccionaron {}. ¡Es un empate!\")\n",
    "    elif :\n",
    "        if :\n",
    "            print(\"¡Roca aplasta tijeras! ¡Tu Ganas!\")\n",
    "        else:\n",
    "            print(\"Pepel cubre roca! Tu pierdes\")\n",
    "    elif :\n",
    "        if :\n",
    "            print(\"Pepel cubre roca! ¡Tu Ganas!\")\n",
    "        else:\n",
    "            print(\"Tijera corta papel! Tu pierdes.\")\n",
    "    elif :\n",
    "        if :\n",
    "            print(\"Tijera corta papel! ¡Tu Ganas!\")\n",
    "        else:\n",
    "            print(\"¡Roca aplasta tijeras! Tu pierdes.\")\n",
    "\n",
    "    # No modifiques eset codigo\n",
    "    play_again = input(\"Jugar de nuevo? (s/n): \")\n",
    "    if play_again.lower() != \"s\":\n",
    "        break"
   ]
  }
 ],
 "metadata": {
  "interpreter": {
   "hash": "8a6e124c1719b1ccf5a2abee5910e336e025fe78a037cbb819be443500ffda8b"
  },
  "kernelspec": {
   "display_name": "Python 3.8.10 ('base')",
   "language": "python",
   "name": "python3"
  },
  "language_info": {
   "codemirror_mode": {
    "name": "ipython",
    "version": 3
   },
   "file_extension": ".py",
   "mimetype": "text/x-python",
   "name": "python",
   "nbconvert_exporter": "python",
   "pygments_lexer": "ipython3",
   "version": "3.8.10"
  },
  "orig_nbformat": 4
 },
 "nbformat": 4,
 "nbformat_minor": 2
}
