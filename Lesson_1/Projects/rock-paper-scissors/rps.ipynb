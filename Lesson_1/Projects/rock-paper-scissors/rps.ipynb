{
 "cells": [
  {
   "cell_type": "markdown",
   "metadata": {},
   "source": [
    "### self-taught python\n",
    "#### Piedra, Papel o Tijera"
   ]
  },
  {
   "cell_type": "code",
   "execution_count": null,
   "metadata": {},
   "outputs": [],
   "source": [
    "\n",
    "import random"
   ]
  },
  {
   "cell_type": "markdown",
   "metadata": {},
   "source": [
    "Instrucciones: \n",
    "1. Crea una variable para tomar información del usuario.\n",
    "   1. Crea una variable para guardar los datos de la función `input()`\n",
    "   2. Crea una lista para guardar los textos de: `\"roca\", \"papel\", \"Tijera\"`\n",
    "2. Usa bloques if, elif, else. para generar los resultados\n"
   ]
  },
  {
   "cell_type": "code",
   "execution_count": 2,
   "metadata": {},
   "outputs": [
    {
     "ename": "SyntaxError",
     "evalue": "invalid syntax (Temp/ipykernel_8388/1283678600.py, line 3)",
     "output_type": "error",
     "traceback": [
      "\u001b[1;36m  File \u001b[1;32m\"C:\\Users\\tripl\\AppData\\Local\\Temp/ipykernel_8388/1283678600.py\"\u001b[1;36m, line \u001b[1;32m3\u001b[0m\n\u001b[1;33m    while : # completa el While loop para que funcione de forma indefinida.\u001b[0m\n\u001b[1;37m          ^\u001b[0m\n\u001b[1;31mSyntaxError\u001b[0m\u001b[1;31m:\u001b[0m invalid syntax\n"
     ]
    }
   ],
   "source": [
    "import random # Paquete para generar Numeros random.\n",
    "\n",
    "while : # completa el While loop para que funcione de forma indefinida.\n",
    "    \n",
    "    # Crea las variables\n",
    "\n",
    "    accion_de_laMaquina = random.choice() # llena el paréntesis con la variable que contiene las acciones del juego.\n",
    "    # llena las corcheas con la variable tipo list que creaste para las Acciones del juego: \"roca\", \"papel\", \"scissors\"\n",
    "    print(f\"\\nEscogiste {}, La maquina escogió {accion_de_laMaquina}.\\n\")\n",
    "\n",
    "    # Crea las condiciones\n",
    "    # Resuelve los Bloques \"if\" creando las condiciones para las que se generara cada texto:\n",
    "    #   Rellena las corcheas con la variable tipo list que creaste para guardar las Acciones del juego.\n",
    "    if :\n",
    "        print(f\"Ambos jugadores seleccionaron {}. ¡Es un empate!\")\n",
    "    elif :\n",
    "        if :\n",
    "            print(\"¡Roca aplasta tijeras! ¡Tu Ganas!\")\n",
    "        else:\n",
    "            print(\"Pepel cubre roca! Tu pierdes\")\n",
    "    elif :\n",
    "        if :\n",
    "            print(\"Pepel cubre roca! ¡Tu Ganas!\")\n",
    "        else:\n",
    "            print(\"Tijera corta papel! Tu pierdes.\")\n",
    "    elif :\n",
    "        if :\n",
    "            print(\"Tijera corta papel! ¡Tu Ganas!\")\n",
    "        else:\n",
    "            print(\"¡Roca aplasta tijeras! Tu pierdes.\")\n",
    "\n",
    "    # No modifiques eset codigo\n",
    "    play_again = input(\"Jugar de nuevo? (s/n): \")\n",
    "    if play_again.lower() != \"s\":\n",
    "        break"
   ]
  },
  {
   "cell_type": "code",
   "execution_count": null,
   "metadata": {},
   "outputs": [],
   "source": [
    "import random\n",
    "\n",
    "while True:\n",
    "    \n",
    "    # Crea las variables\n",
    "    user_action = input(\"Enter a choice (rock, paper, scissors): \")\n",
    "    possible_actions = [\"rock\", \"paper\", \"scissors\"]\n",
    "    computer_action = random.choice(possible_actions)\n",
    "    print(f\"\\nYou chose {user_action}, computer chose {computer_action}.\\n\")\n",
    "\n",
    "    # Crea las condiciones\n",
    "    if user_action == computer_action:\n",
    "        print(f\"Both players selected {user_action}. It's a tie!\")\n",
    "    elif user_action == \"rock\":\n",
    "        if computer_action == \"scissors\":\n",
    "            print(\"Rock smashes scissors! You win!\")\n",
    "        else:\n",
    "            print(\"Paper covers rock! You lose.\")\n",
    "    elif user_action == \"paper\":\n",
    "        if computer_action == \"rock\":\n",
    "            print(\"Paper covers rock! You win!\")\n",
    "        else:\n",
    "            print(\"Scissors cuts paper! You lose.\")\n",
    "    elif user_action == \"scissors\":\n",
    "        if computer_action == \"paper\":\n",
    "            print(\"Scissors cuts paper! You win!\")\n",
    "        else:\n",
    "            print(\"Rock smashes scissors! You lose.\")\n",
    "\n",
    "    play_again = input(\"Play again? (y/n): \")\n",
    "    if play_again.lower() != \"y\":\n",
    "        break"
   ]
  }
 ],
 "metadata": {
  "interpreter": {
   "hash": "8a6e124c1719b1ccf5a2abee5910e336e025fe78a037cbb819be443500ffda8b"
  },
  "kernelspec": {
   "display_name": "Python 3.8.10 ('base')",
   "language": "python",
   "name": "python3"
  },
  "language_info": {
   "codemirror_mode": {
    "name": "ipython",
    "version": 3
   },
   "file_extension": ".py",
   "mimetype": "text/x-python",
   "name": "python",
   "nbconvert_exporter": "python",
   "pygments_lexer": "ipython3",
   "version": "3.8.10"
  },
  "orig_nbformat": 4
 },
 "nbformat": 4,
 "nbformat_minor": 2
}
