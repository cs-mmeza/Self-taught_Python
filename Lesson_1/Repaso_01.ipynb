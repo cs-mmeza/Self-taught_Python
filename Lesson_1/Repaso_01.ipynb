{
 "cells": [
  {
   "cell_type": "markdown",
   "metadata": {},
   "source": [
    "# Repaso o Refuerzo  Python Class (Beginner)\n",
    "\n",
    "### 20/11/2021"
   ]
  },
  {
   "cell_type": "code",
   "execution_count": 15,
   "metadata": {},
   "outputs": [
    {
     "name": "stdout",
     "output_type": "stream",
     "text": [
      "Num2 is not gooooo....\n"
     ]
    }
   ],
   "source": [
    "# ELIF multiples cond encadenadas >> multiples resultados\n",
    "\n",
    "num1 = 36\n",
    "\n",
    "\n",
    "if(num1 == 2):\n",
    "    print(\"Num1 is good\")\n",
    "\n",
    "elif(num1 > 35):\n",
    "    print(\"Num2 is not gooooo....\")\n",
    "\n",
    "elif(num1 > 5):\n",
    "    print(\"Num2 is nice\")\n",
    "\n",
    "\n",
    "else:\n",
    "    print(\"Num2 is great\")\n"
   ]
  },
  {
   "cell_type": "code",
   "execution_count": 17,
   "metadata": {},
   "outputs": [],
   "source": [
    "# multiples cond. o una cond. especifica >> 1 resultado\n",
    "\n",
    "if(num1<=12 and num1>35): # 1 and 1 == True else : Fase\n",
    "    print(\"good and goooooo....\")"
   ]
  },
  {
   "cell_type": "code",
   "execution_count": 23,
   "metadata": {},
   "outputs": [
    {
     "name": "stdout",
     "output_type": "stream",
     "text": [
      "List Iteration: \n",
      "\n",
      "geeks\n",
      "for\n",
      "geeks\n"
     ]
    }
   ],
   "source": [
    "print(\"List Iteration: \\n\")\n",
    "\n",
    "l = [\"geeks\", \"for\", \"geeks\"]\n",
    "\n",
    "for i in l:\n",
    "    print(i)"
   ]
  },
  {
   "cell_type": "code",
   "execution_count": 27,
   "metadata": {},
   "outputs": [],
   "source": [
    "texto = \"Frases celebres\"\n",
    "\n",
    "if \"Frasz\" in texto:\n",
    "    print(True)\n"
   ]
  },
  {
   "cell_type": "code",
   "execution_count": null,
   "metadata": {},
   "outputs": [],
   "source": []
  }
 ],
 "metadata": {
  "interpreter": {
   "hash": "8a6e124c1719b1ccf5a2abee5910e336e025fe78a037cbb819be443500ffda8b"
  },
  "kernelspec": {
   "display_name": "Python 3.8.10 64-bit ('base': conda)",
   "language": "python",
   "name": "python3"
  },
  "language_info": {
   "codemirror_mode": {
    "name": "ipython",
    "version": 3
   },
   "file_extension": ".py",
   "mimetype": "text/x-python",
   "name": "python",
   "nbconvert_exporter": "python",
   "pygments_lexer": "ipython3",
   "version": "3.8.10"
  },
  "orig_nbformat": 4
 },
 "nbformat": 4,
 "nbformat_minor": 2
}
